{
 "cells": [
  {
   "cell_type": "code",
   "execution_count": 11,
   "id": "initial_id",
   "metadata": {
    "collapsed": true,
    "ExecuteTime": {
     "end_time": "2024-01-27T20:19:35.685750400Z",
     "start_time": "2024-01-27T20:19:35.674077900Z"
    }
   },
   "outputs": [],
   "source": [
    "import os\n",
    "def create_dir(path):\n",
    "    if not os.path.exists(path):\n",
    "        os.makedirs(path)"
   ]
  },
  {
   "cell_type": "code",
   "outputs": [],
   "source": [
    "create_dir(\"D:\\projects\\segmentation of aerial imagery\\data\\org_data\\image\")\n",
    "create_dir(\"D:\\projects\\segmentation of aerial imagery\\data\\org_data\\mask\")"
   ],
   "metadata": {
    "collapsed": false,
    "ExecuteTime": {
     "end_time": "2024-01-27T20:19:36.347610Z",
     "start_time": "2024-01-27T20:19:36.336966400Z"
    }
   },
   "id": "e8e100595715e1e1",
   "execution_count": 12
  },
  {
   "cell_type": "code",
   "outputs": [],
   "source": [
    "\n",
    "\n"
   ],
   "metadata": {
    "collapsed": false,
    "ExecuteTime": {
     "end_time": "2024-01-27T20:30:06.640227300Z",
     "start_time": "2024-01-27T20:30:06.632213600Z"
    }
   },
   "id": "768d9bb2fa47a72e",
   "execution_count": 12
  },
  {
   "cell_type": "code",
   "outputs": [],
   "source": [
    "\n",
    "\n",
    "\n"
   ],
   "metadata": {
    "collapsed": false
   },
   "id": "1ab30641d182157a"
  },
  {
   "cell_type": "code",
   "outputs": [],
   "source": [],
   "metadata": {
    "collapsed": false
   },
   "id": "f21016b47d6a680e"
  }
 ],
 "metadata": {
  "kernelspec": {
   "display_name": "Python 3",
   "language": "python",
   "name": "python3"
  },
  "language_info": {
   "codemirror_mode": {
    "name": "ipython",
    "version": 2
   },
   "file_extension": ".py",
   "mimetype": "text/x-python",
   "name": "python",
   "nbconvert_exporter": "python",
   "pygments_lexer": "ipython2",
   "version": "2.7.6"
  }
 },
 "nbformat": 4,
 "nbformat_minor": 5
}
