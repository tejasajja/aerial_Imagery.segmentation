{
 "cells": [
  {
   "cell_type": "code",
   "execution_count": null,
   "id": "initial_id",
   "metadata": {
    "collapsed": true
   },
   "outputs": [],
   "source": [
    "model.eval()\n",
    "for batch_i, (x, y) in enumerate(test_dataloader):\n",
    "    for j in range(len(x)):\n",
    "        result = model(x[j:j+1])\n",
    "        mask = torch.argmax(result, axis=1).cpu().detach().numpy()[0]\n",
    "        im = np.moveaxis(x[j].cpu().detach().numpy(), 0, -1).copy()*255\n",
    "        im = im.astype(int)\n",
    "        gt_mask = y[j].cpu()\n",
    "\n",
    "        plt.figure(figsize=(12,12))\n",
    "\n",
    "        plt.subplot(1,3,1)\n",
    "        im = np.moveaxis(x[j].cpu().detach().numpy(), 0, -1).copy()*255\n",
    "        im = im.astype(int)\n",
    "        plt.imshow(im)\n",
    "\n",
    "        plt.subplot(1,3,2)\n",
    "        plt.imshow(gt_mask)\n",
    "\n",
    "        plt.subplot(1,3,3)\n",
    "        plt.imshow(mask)\n",
    "        plt.show()"
   ]
  },
  {
   "cell_type": "code",
   "outputs": [],
   "source": [
    "precision_list = []\n",
    "recall_list = []\n",
    "for batch_i, (x, y) in enumerate(test_dataloader):\n",
    "    for j in range(len(x)):\n",
    "        result = model(x[j:j+1])\n",
    "        precision_list.append(precision(y[j],result))\n",
    "        recall_list.append(recall(y[j],result))"
   ],
   "metadata": {
    "collapsed": false
   },
   "id": "9a83a0a90a96884"
  },
  {
   "cell_type": "code",
   "outputs": [],
   "source": [
    "final_recall = np.nanmean(recall_list,axis = 0)\n",
    "sum(final_recall)/5"
   ],
   "metadata": {
    "collapsed": false
   },
   "id": "c75bbfc789a68d13"
  },
  {
   "cell_type": "code",
   "outputs": [],
   "source": [
    "torch.save(model.state_dict(),\"aerialImageSegmentation_using_U-net_and_ViT_100epochs\")"
   ],
   "metadata": {
    "collapsed": false
   },
   "id": "949bbcbb6ccf47e0"
  }
 ],
 "metadata": {
  "kernelspec": {
   "display_name": "Python 3",
   "language": "python",
   "name": "python3"
  },
  "language_info": {
   "codemirror_mode": {
    "name": "ipython",
    "version": 2
   },
   "file_extension": ".py",
   "mimetype": "text/x-python",
   "name": "python",
   "nbconvert_exporter": "python",
   "pygments_lexer": "ipython2",
   "version": "2.7.6"
  }
 },
 "nbformat": 4,
 "nbformat_minor": 5
}
